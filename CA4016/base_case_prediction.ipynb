{
 "cells": [
  {
   "cell_type": "code",
   "execution_count": 1,
   "id": "04db9599",
   "metadata": {},
   "outputs": [],
   "source": [
    "import os\n",
    "import numpy as np\n",
    "import pandas as pd\n",
    "import matplotlib.pyplot as plt\n",
    "plt.rcParams['figure.figsize'] = (24, 16)\n",
    "import seaborn as sns\n",
    "import datetime\n",
    "import math\n",
    "from sklearn.ensemble import RandomForestClassifier\n",
    "from sklearn.model_selection import cross_val_score\n",
    "from sklearn.metrics import accuracy_score"
   ]
  },
  {
   "cell_type": "markdown",
   "id": "21c99a11",
   "metadata": {},
   "source": [
    "## Functions"
   ]
  },
  {
   "cell_type": "code",
   "execution_count": 2,
   "id": "1472a252",
   "metadata": {},
   "outputs": [],
   "source": [
    "def import_files(path):\n",
    "    file_dfs = {}\n",
    "    for subject_type in os.listdir(path):\n",
    "        for subject_ID in os.listdir(f\"{path}/{subject_type}\"):\n",
    "            df = pd.read_csv(f\"{path}/{subject_type}/{subject_ID}/glucose.csv\")\n",
    "            join_date_time(df, \"date\", \"time\")\n",
    "            df.index = pd.to_datetime(df.datetime)\n",
    "            df.drop(columns=[\"type\",\"comments\",\"datetime\"],inplace=True)\n",
    "            file_dfs[f\"{subject_type}_{subject_ID}\"] = df\n",
    "\n",
    "    return file_dfs"
   ]
  },
  {
   "cell_type": "code",
   "execution_count": 3,
   "id": "fe5e92d7",
   "metadata": {},
   "outputs": [],
   "source": [
    "def join_date_time(df, date_col, time_col):\n",
    "    new_df = pd.to_datetime(df[date_col].astype(str) + ' ' +df[time_col].astype(str))\n",
    "    df.insert(2, 'datetime', new_df)\n",
    "    df.drop(columns=[date_col, time_col],inplace=True)    "
   ]
  },
  {
   "cell_type": "code",
   "execution_count": 4,
   "id": "e163edfd",
   "metadata": {},
   "outputs": [],
   "source": [
    "def fix_index(index_df, df):\n",
    "    return index_df.join(df.resample(\"H\").mean())"
   ]
  },
  {
   "cell_type": "code",
   "execution_count": 5,
   "id": "653137c0",
   "metadata": {},
   "outputs": [],
   "source": [
    "def find_stats(my_dict, df, resample_period, target, n, i, day):\n",
    "    my_dict[\"subjectID\"].append([i]*n)\n",
    "    \n",
    "    my_dict[\"mean\"].append(df.resample(resample_period).mean().values)\n",
    "    my_dict[\"min\"].append(df.resample(resample_period).min().values)\n",
    "    my_dict[\"max\"].append(df.resample(resample_period).max().values)\n",
    "    my_dict[\"std\"].append(df.resample(resample_period).std().values)\n",
    "    my_dict[\"target\"].append([target]*n)\n",
    "    my_dict[\"day\"].append(day)"
   ]
  },
  {
   "cell_type": "code",
   "execution_count": 6,
   "id": "f6ea6327",
   "metadata": {},
   "outputs": [],
   "source": [
    "def train_test_split(X):\n",
    "    X.dropna(thresh=5, inplace=True)\n",
    "    X_train = X[(X[\"day\"] != 4) & (X[\"subjectID\"] != 10)].drop(columns=[\"target\",\"subjectID\",\"day\"]).reset_index(drop=True)\n",
    "    y_train = X[(X[\"day\"] != 4) & (X[\"subjectID\"] != 10)][[\"target\"]].reset_index(drop=True)\n",
    "\n",
    "    X_test = X[(X[\"day\"] == 4) | (X[\"subjectID\"] == 10)].drop(columns=[\"target\",\"subjectID\",\"day\"]).reset_index(drop=True)\n",
    "    y_test = X[(X[\"day\"] == 4) | (X[\"subjectID\"] == 10)][[\"target\"]].reset_index(drop=True)\n",
    "    \n",
    "    return X_train, y_train, X_test, y_test "
   ]
  },
  {
   "cell_type": "markdown",
   "id": "62a77142",
   "metadata": {},
   "source": [
    "## Import data\n",
    "\n",
    "As mentioned in the initial analysis there is one subject who has diabetes but for the purpose of the dataset was treated as a \"healthy\" subject.\n",
    "\n",
    "For this reason I will exclude this subject from the training but will use in the testing stage of this file."
   ]
  },
  {
   "cell_type": "code",
   "execution_count": 7,
   "id": "862b126e",
   "metadata": {},
   "outputs": [],
   "source": [
    "glucose_dfs = import_files(\"data/processed_data\")\n",
    "\n",
    "glucose_dfs[\"healthy_subset_017\"].iloc[17] = glucose_dfs[\"healthy_subset_017\"].iloc[17].values[0].replace(\":\",\".\")\n",
    "glucose_dfs[\"healthy_subset_017\"] = glucose_dfs[\"healthy_subset_017\"].astype(\"float\")\n",
    "\n",
    "test_subject = glucose_dfs.pop(\"healthy_subset_012_diabetes\")"
   ]
  },
  {
   "cell_type": "markdown",
   "id": "eef9380e",
   "metadata": {},
   "source": [
    "## Data Processing\n",
    "\n",
    "I will take the raw glucose data and apply feature engering to create the following features for each day.\n",
    "\n",
    "1. Mean\n",
    "2. Min\n",
    "3. Max\n",
    "4. Range\n",
    "5. Standard deviation\n",
    "6. Target, [0,1] = [Diabetes, Healthy]"
   ]
  },
  {
   "cell_type": "code",
   "execution_count": 8,
   "id": "ba4c847f",
   "metadata": {},
   "outputs": [
    {
     "name": "stdout",
     "output_type": "stream",
     "text": [
      "24\n",
      "24\n",
      "31\n",
      "24\n",
      "24\n"
     ]
    }
   ],
   "source": [
    "# Find the number of times healthy subjects checked their glucose.\n",
    "for key in glucose_dfs.keys():\n",
    "    if key.split(\"_\")[0] == \"healthy\":\n",
    "        print(len(glucose_dfs[key]))"
   ]
  },
  {
   "cell_type": "markdown",
   "id": "fd01e062",
   "metadata": {},
   "source": [
    "Since subjects measured their glucose at differnet times in the day I will resample the data and   \n",
    "as most healthy subjects measured their glucose 24 times over the 4 days I will resample to 6 (24/4) hour periods."
   ]
  },
  {
   "cell_type": "code",
   "execution_count": 9,
   "id": "1a6ffd0d",
   "metadata": {},
   "outputs": [],
   "source": [
    "resample_freq = \"6H\"\n",
    "indx = pd.date_range(\"2014-10-01\",\"2014-10-05\", freq=resample_freq)\n",
    "resampled_glucose = pd.DataFrame(index=indx)"
   ]
  },
  {
   "cell_type": "code",
   "execution_count": 10,
   "id": "add303a8",
   "metadata": {},
   "outputs": [
    {
     "name": "stdout",
     "output_type": "stream",
     "text": [
      "Date range of most of the subjects\n",
      "{datetime.date(2014, 10, 1), datetime.date(2014, 10, 2), datetime.date(2014, 10, 3), datetime.date(2014, 10, 4)}\n",
      "\n",
      "Date range of the test subject\n",
      "{datetime.date(2014, 9, 30), datetime.date(2014, 10, 1), datetime.date(2014, 10, 2), datetime.date(2014, 10, 3)}\n"
     ]
    }
   ],
   "source": [
    "index_df = pd.DataFrame(index=pd.date_range(\"2014-10-01\",\"2014-10-05\", freq=\"H\"))\n",
    "print(\"Date range of most of the subjects\")\n",
    "print(set([day.date() for day in index_df.index[:-1]]), end=\"\\n\\n\")\n",
    "print(\"Date range of the test subject\")\n",
    "print(set([day.date() for day in test_subject.index]))"
   ]
  },
  {
   "cell_type": "markdown",
   "id": "87cdb251",
   "metadata": {},
   "source": [
    "It seems that the test subject started measuring their glucose one day earlier than the rest.\n",
    "As I don't believe the specific dates have a major impact on the outcome I will adjust the test subjects dates to fit with the rest."
   ]
  },
  {
   "cell_type": "code",
   "execution_count": 11,
   "id": "45fb944f",
   "metadata": {},
   "outputs": [],
   "source": [
    "test_subject.index += datetime.timedelta(days=1)"
   ]
  },
  {
   "cell_type": "code",
   "execution_count": 12,
   "id": "a09d4b4a",
   "metadata": {},
   "outputs": [],
   "source": [
    "stat_dict = {\"subjectID\":[],\n",
    "             \"day\":[],\n",
    "            \"mean\":[],\n",
    "             \"min\":[],\n",
    "             \"max\":[],\n",
    "             \"std\":[],\n",
    "             \"target\":[],\n",
    "            }\n",
    "#This df is used to fix all dfs lengths.\n",
    "index_df = pd.DataFrame(index=pd.date_range(\"2014-10-01\",\"2014-10-05\", freq=\"H\"))\n",
    "indxLen = len(resampled_glucose)\n",
    "resample_freq = \"6H\"\n",
    "day = [day.day for day in pd.date_range(\"2014-10-01\",\"2014-10-05\", freq=resample_freq)]\n",
    "for i, key in enumerate(glucose_dfs.keys()):\n",
    "    \n",
    "    df = glucose_dfs[key]\n",
    "    df = fix_index(index_df, df)\n",
    "    \n",
    "    target = 1 if key.split(\"_\")[0] == \"diabetes\" else 0\n",
    "    find_stats(stat_dict, df, resample_freq, target, indxLen, i, day)\n",
    "\n",
    "df = test_subject\n",
    "df = fix_index(index_df, df)\n",
    "find_stats(stat_dict, df, resample_freq, 1, indxLen, 10, day)\n",
    "\n",
    "for key in stat_dict:\n",
    "    stat_dict[key] = np.array(stat_dict[key]).reshape(-1)\n",
    "    \n",
    "stat_dict[\"range\"] = stat_dict[\"max\"]-stat_dict[\"min\"]\n",
    "\n",
    "stat_df = pd.DataFrame(stat_dict)"
   ]
  },
  {
   "cell_type": "code",
   "execution_count": 13,
   "id": "ccdfb3ac",
   "metadata": {},
   "outputs": [
    {
     "name": "stdout",
     "output_type": "stream",
     "text": [
      "187\n",
      "187\n",
      "187\n",
      "187\n",
      "187\n",
      "187\n",
      "187\n",
      "187\n"
     ]
    }
   ],
   "source": [
    "for key in stat_dict:\n",
    "    print(len(stat_dict[key]))"
   ]
  },
  {
   "cell_type": "code",
   "execution_count": 25,
   "id": "053cb70f",
   "metadata": {},
   "outputs": [
    {
     "data": {
      "image/png": "[encoded data removed]",
      "text/plain": [
       "<Figure size 1728x1152 with 1 Axes>"
      ]
     },
     "metadata": {
      "needs_background": "light"
     },
     "output_type": "display_data"
    }
   ],
   "source": [
    "stat_df.groupby(\"target\").mean().drop(columns=[\"day\",\"subjectID\"]).T.plot(kind=\"bar\");"
   ]
  },
  {
   "cell_type": "markdown",
   "id": "63dd68b9",
   "metadata": {},
   "source": [
    "From the graph above it is clear that there is a big difference in the glucose levels of the two subsets."
   ]
  },
  {
   "cell_type": "markdown",
   "id": "3016a795",
   "metadata": {},
   "source": [
    "## Train Test Split\n",
    "\n",
    "In this section I will compare two models using the random forest algorithm:\n",
    "\n",
    "1. Trained and tested using the 6 hour resampled data.\n",
    "2. Trained and tested using with daily resampled data.\n",
    "\n",
    "I am interested to see if there is a difference in accuracy"
   ]
  },
  {
   "cell_type": "markdown",
   "id": "efa48d7a",
   "metadata": {},
   "source": [
    "### 6 Hour Resampled Data"
   ]
  },
  {
   "cell_type": "code",
   "execution_count": 15,
   "id": "97ae7fe2",
   "metadata": {},
   "outputs": [],
   "source": [
    "X1_train, y1_train, X1_test, y1_test  = train_test_split(stat_df)\n",
    "\n",
    "X1_train[\"std\"] = X1_train[\"std\"].replace(np.nan, 0)\n",
    "X1_test[\"std\"] = X1_test[\"std\"].replace(np.nan, 0)"
   ]
  },
  {
   "cell_type": "code",
   "execution_count": 16,
   "id": "384fca68",
   "metadata": {},
   "outputs": [
    {
     "name": "stdout",
     "output_type": "stream",
     "text": [
      "The X_train set has 103 rows and 5 features\n",
      "The X_train set has 43 rows and 5 features\n"
     ]
    }
   ],
   "source": [
    "print(f\"The X_train set has {len(X1_train)} rows and {len(X1_train.columns)} features\")\n",
    "print(f\"The X_train set has {len(X1_test)} rows and {len(X1_test.columns)} features\")"
   ]
  },
  {
   "cell_type": "code",
   "execution_count": 29,
   "id": "b4a4dfe8",
   "metadata": {},
   "outputs": [
    {
     "name": "stderr",
     "output_type": "stream",
     "text": [
      "C:\\Users\\PC\\AppData\\Local\\Temp/ipykernel_13176/3075163417.py:3: DataConversionWarning: A column-vector y was passed when a 1d array was expected. Please change the shape of y to (n_samples,), for example using ravel().\n",
      "  clf = clf.fit(X1_train, y1_train)\n",
      "F:\\PC\\mambaforge\\lib\\site-packages\\sklearn\\model_selection\\_validation.py:686: DataConversionWarning: A column-vector y was passed when a 1d array was expected. Please change the shape of y to (n_samples,), for example using ravel().\n",
      "  estimator.fit(X_train, y_train, **fit_params)\n",
      "F:\\PC\\mambaforge\\lib\\site-packages\\sklearn\\model_selection\\_validation.py:686: DataConversionWarning: A column-vector y was passed when a 1d array was expected. Please change the shape of y to (n_samples,), for example using ravel().\n",
      "  estimator.fit(X_train, y_train, **fit_params)\n",
      "F:\\PC\\mambaforge\\lib\\site-packages\\sklearn\\model_selection\\_validation.py:686: DataConversionWarning: A column-vector y was passed when a 1d array was expected. Please change the shape of y to (n_samples,), for example using ravel().\n",
      "  estimator.fit(X_train, y_train, **fit_params)\n",
      "F:\\PC\\mambaforge\\lib\\site-packages\\sklearn\\model_selection\\_validation.py:686: DataConversionWarning: A column-vector y was passed when a 1d array was expected. Please change the shape of y to (n_samples,), for example using ravel().\n",
      "  estimator.fit(X_train, y_train, **fit_params)\n",
      "F:\\PC\\mambaforge\\lib\\site-packages\\sklearn\\model_selection\\_validation.py:686: DataConversionWarning: A column-vector y was passed when a 1d array was expected. Please change the shape of y to (n_samples,), for example using ravel().\n",
      "  estimator.fit(X_train, y_train, **fit_params)\n"
     ]
    },
    {
     "name": "stdout",
     "output_type": "stream",
     "text": [
      "Accuracy score of 93.19%\n"
     ]
    }
   ],
   "source": [
    "# The model is trained using 5 fold cross validation\n",
    "clf = RandomForestClassifier(random_state=0)\n",
    "clf = clf.fit(X1_train, y1_train)\n",
    "\n",
    "scores = cross_val_score(clf, X1_train, y1_train, cv=5)\n"
   ]
  },
  {
   "cell_type": "code",
   "execution_count": 30,
   "id": "d96f1ea9",
   "metadata": {},
   "outputs": [
    {
     "name": "stdout",
     "output_type": "stream",
     "text": [
      "Accuracy score of 93.19%\n"
     ]
    }
   ],
   "source": [
    "print(f\"Accuracy score of {(scores.mean()*100):.2f}%\")"
   ]
  },
  {
   "cell_type": "markdown",
   "id": "86048bca",
   "metadata": {},
   "source": [
    "### Daily Resampled Data"
   ]
  },
  {
   "cell_type": "code",
   "execution_count": 18,
   "id": "33141ae8",
   "metadata": {},
   "outputs": [],
   "source": [
    "# Resample the data to daily\n",
    "X = {}\n",
    "for key in stat_dict:\n",
    "    X[key] = []\n",
    "\n",
    "numDays = 4\n",
    "resample_period = \"D\"\n",
    "day = [1,2,3,4]\n",
    "for i, key in enumerate(glucose_dfs.keys()):\n",
    "    df = glucose_dfs[key]\n",
    "    df = fix_index(index_df.iloc[:-1], df)\n",
    "    \n",
    "    target = 1 if key.split(\"_\")[0] == \"diabetes\" else 0\n",
    "    find_stats(X, df, resample_period, target, numDays, i, day)\n",
    "\n",
    "\n",
    "df = test_subject\n",
    "df = fix_index(index_df.iloc[:-1], df)\n",
    "find_stats(X, df, resample_period, 1, numDays,10, day)\n",
    "\n",
    "for key in X:\n",
    "    X[key] = np.array(X[key]).reshape(-1)\n",
    "\n",
    "X[\"range\"] = X[\"max\"]-X[\"min\"]    \n",
    "    \n",
    "X = pd.DataFrame(X)"
   ]
  },
  {
   "cell_type": "code",
   "execution_count": 19,
   "id": "02acec6d",
   "metadata": {},
   "outputs": [],
   "source": [
    "X2_train, y2_train, X2_test, y2_test  = train_test_split(X)"
   ]
  },
  {
   "cell_type": "code",
   "execution_count": 20,
   "id": "fe50e8a6",
   "metadata": {},
   "outputs": [
    {
     "name": "stdout",
     "output_type": "stream",
     "text": [
      "The X_train set has 30 rows and 5 features\n",
      "The X_train set has 14 rows and 5 features\n"
     ]
    }
   ],
   "source": [
    "print(f\"The X_train set has {len(X2_train)} rows and {len(X2_train.columns)} features\")\n",
    "print(f\"The X_train set has {len(X2_test)} rows and {len(X2_test.columns)} features\")"
   ]
  },
  {
   "cell_type": "code",
   "execution_count": null,
   "id": "cb1056ef",
   "metadata": {},
   "outputs": [],
   "source": [
    "clf = RandomForestClassifier(random_state=0)\n",
    "clf = clf.fit(X2_train, y2_train)\n",
    "\n",
    "scores = cross_val_score(clf, X2_train, y2_train, cv=5)"
   ]
  },
  {
   "cell_type": "code",
   "execution_count": 21,
   "id": "05510329",
   "metadata": {},
   "outputs": [
    {
     "name": "stderr",
     "output_type": "stream",
     "text": [
      "C:\\Users\\PC\\AppData\\Local\\Temp/ipykernel_13176/2192283956.py:2: DataConversionWarning: A column-vector y was passed when a 1d array was expected. Please change the shape of y to (n_samples,), for example using ravel().\n",
      "  clf = clf.fit(X2_train, y2_train)\n",
      "F:\\PC\\mambaforge\\lib\\site-packages\\sklearn\\model_selection\\_validation.py:686: DataConversionWarning: A column-vector y was passed when a 1d array was expected. Please change the shape of y to (n_samples,), for example using ravel().\n",
      "  estimator.fit(X_train, y_train, **fit_params)\n",
      "F:\\PC\\mambaforge\\lib\\site-packages\\sklearn\\model_selection\\_validation.py:686: DataConversionWarning: A column-vector y was passed when a 1d array was expected. Please change the shape of y to (n_samples,), for example using ravel().\n",
      "  estimator.fit(X_train, y_train, **fit_params)\n",
      "F:\\PC\\mambaforge\\lib\\site-packages\\sklearn\\model_selection\\_validation.py:686: DataConversionWarning: A column-vector y was passed when a 1d array was expected. Please change the shape of y to (n_samples,), for example using ravel().\n",
      "  estimator.fit(X_train, y_train, **fit_params)\n",
      "F:\\PC\\mambaforge\\lib\\site-packages\\sklearn\\model_selection\\_validation.py:686: DataConversionWarning: A column-vector y was passed when a 1d array was expected. Please change the shape of y to (n_samples,), for example using ravel().\n",
      "  estimator.fit(X_train, y_train, **fit_params)\n",
      "F:\\PC\\mambaforge\\lib\\site-packages\\sklearn\\model_selection\\_validation.py:686: DataConversionWarning: A column-vector y was passed when a 1d array was expected. Please change the shape of y to (n_samples,), for example using ravel().\n",
      "  estimator.fit(X_train, y_train, **fit_params)\n"
     ]
    },
    {
     "name": "stdout",
     "output_type": "stream",
     "text": [
      "Accuracy score of 96.67%\n"
     ]
    }
   ],
   "source": [
    "print(f\"Accuracy score of {(scores.mean()*100):.2f}%\")"
   ]
  },
  {
   "cell_type": "markdown",
   "id": "fda04bd0",
   "metadata": {},
   "source": [
    "### Results\n",
    "\n",
    "The average cross validation accuracy score for the daily data is slightly higher than 6 hour data.  \n",
    "I believe this is due to the fact that resampling the data to daily reduced the magnitude of noise in the data.\n",
    "\n",
    "As you can see this also translated to classifying the test set."
   ]
  },
  {
   "cell_type": "code",
   "execution_count": 22,
   "id": "52d61024",
   "metadata": {},
   "outputs": [
    {
     "data": {
      "text/plain": [
       "0.813953488372093"
      ]
     },
     "execution_count": 22,
     "metadata": {},
     "output_type": "execute_result"
    }
   ],
   "source": [
    "# 6 hour resample\n",
    "y1_hat = clf.predict(X1_test)\n",
    "accuracy_score(y1_test, y1_hat)"
   ]
  },
  {
   "cell_type": "code",
   "execution_count": 23,
   "id": "0917d5e4",
   "metadata": {},
   "outputs": [
    {
     "data": {
      "text/plain": [
       "0.9285714285714286"
      ]
     },
     "execution_count": 23,
     "metadata": {},
     "output_type": "execute_result"
    }
   ],
   "source": [
    "# Daily resample\n",
    "y2_hat = clf.predict(X2_test)\n",
    "accuracy_score(y2_test, y2_hat)"
   ]
  }
 ],
 "metadata": {
  "kernelspec": {
   "display_name": "CA4016",
   "language": "python",
   "name": "ca4016"
  },
  "language_info": {
   "codemirror_mode": {
    "name": "ipython",
    "version": 3
   },
   "file_extension": ".py",
   "mimetype": "text/x-python",
   "name": "python",
   "nbconvert_exporter": "python",
   "pygments_lexer": "ipython3",
   "version": "3.10.8"
  }
 },
 "nbformat": 4,
 "nbformat_minor": 5
}
