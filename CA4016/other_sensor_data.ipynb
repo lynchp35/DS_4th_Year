{
 "cells": [
  {
   "cell_type": "code",
   "execution_count": 4,
   "id": "43aa60ac",
   "metadata": {},
   "outputs": [],
   "source": [
    "import pandas as pd\n",
    "import numpy as np\n",
    "import matplotlib.pyplot as plt\n",
    "plt.rcParams['figure.figsize'] = (24, 16)\n",
    "import datetime\n",
    "import seaborn as sns\n",
    "import os"
   ]
  },
  {
   "cell_type": "code",
   "execution_count": 65,
   "id": "703c95ad",
   "metadata": {},
   "outputs": [],
   "source": [
    "def create_resampled_data(path, og_path = \"data/D1NAMO/\"):\n",
    "    for subject_type in os.listdir(path):\n",
    "        for subject_ID in os.listdir(f\"{path}/{subject_type}\"):\n",
    "            for day in os.listdir(f\"{path}/{subject_type}/{subject_ID}/sensor_data\"):\n",
    "                try:\n",
    "                    df = pd.read_csv(f\"{og_path}/{subject_type}/{subject_ID}/sensor_data/{day}/{day}_Summary.csv\")\n",
    "                    \n",
    "                    accel = pd.read_csv(f\"{og_path}/{subject_type}/{subject_ID}/sensor_data/{day}/{day}_Accel.csv\")\n",
    "                    breathing = pd.read_csv(f\"{og_path}/{subject_type}/{subject_ID}/sensor_data/{day}/{day}_Breathing.csv\")  \n",
    "                    ecg = pd.read_csv(f\"{og_path}/{subject_type}/{subject_ID}/sensor_data/{day}/{day}_ECG.csv\")\n",
    "                    current_df = join_files(accel,breathing, ecg)\n",
    "                    current_df.to_csv(f\"{path}/{subject_type}/{subject_ID}/sensor_data/{day}/{day}_resampled_data.csv\")\n",
    "                except FileNotFoundError:\n",
    "                    print(f\"{og_path}/{subject_type}/{subject_ID}/sensor_data/{day}/\")"
   ]
  },
  {
   "cell_type": "code",
   "execution_count": 63,
   "id": "c7ddb9a8",
   "metadata": {},
   "outputs": [],
   "source": [
    "def join_files(accel,breathing, ecg):\n",
    "    \n",
    "    accel[\"Time\"] = pd.to_datetime(accel[\"Time\"], format=\"%d/%m/%Y %H:%M:%S.%f\")\n",
    "    breathing[\"Time\"] = pd.to_datetime(breathing[\"Time\"], format=\"%d/%m/%Y %H:%M:%S.%f\")\n",
    "    ecg[\"Time\"] = pd.to_datetime(ecg[\"Time\"], format=\"%d/%m/%Y %H:%M:%S.%f\")\n",
    "    \n",
    "    new_df = accel.set_index(\"Time\").resample(\"s\").mean().copy().rename(\n",
    "        columns={\"Vertical\":\"V_Mean\",\"Lateral\":\"L_Mean\",\"Sagittal\":\"S_Mean\"})\n",
    "    \n",
    "    accel_std = accel.set_index(\"Time\").resample(\"s\").std().copy().rename(\n",
    "        columns={\"Vertical\":\"V_STD\",\"Lateral\":\"L_STD\",\"Sagittal\":\"S_STD\"})\n",
    "    new_df = new_df.join(accel_std)\n",
    "    \n",
    "    breathing_mean = breathing.set_index(\"Time\").resample(\"s\").mean().copy().rename(\n",
    "        columns={\"BreathingWaveform\":\"B_WF_Mean\"})\n",
    "    new_df = new_df.join(breathing_mean)\n",
    "    \n",
    "    breathing_std = breathing.set_index(\"Time\").resample(\"s\").std().copy().rename(\n",
    "        columns={\"BreathingWaveform\":\"B_WF_STD\"})\n",
    "    new_df = new_df.join(breathing_std)\n",
    "    \n",
    "    ecg_mean = ecg.set_index(\"Time\").resample(\"s\").mean().copy().rename(\n",
    "        columns={\"EcgWaveform\":\"ECG_WF_Mean\"})\n",
    "    new_df = new_df.join(ecg_mean)\n",
    "    \n",
    "    ecg_std = ecg.set_index(\"Time\").resample(\"s\").std().copy().rename(\n",
    "        columns={\"EcgWaveform\":\"ECG_WF_STD\"})\n",
    "    new_df = new_df.join(ecg_std)\n",
    "\n",
    "    \n",
    "    return new_df"
   ]
  },
  {
   "cell_type": "code",
   "execution_count": 66,
   "id": "5441e861",
   "metadata": {},
   "outputs": [
    {
     "name": "stdout",
     "output_type": "stream",
     "text": [
      "data/D1NAMO//healthy_subset/007/sensor_data/2014_10_01-07_50_37/\n"
     ]
    }
   ],
   "source": [
    "create_resampled_data(path, og_path = \"data/D1NAMO/\")"
   ]
  },
  {
   "cell_type": "code",
   "execution_count": null,
   "id": "56bdd04b",
   "metadata": {},
   "outputs": [],
   "source": [
    "def git "
   ]
  },
  {
   "cell_type": "code",
   "execution_count": null,
   "id": "3cc9c37b",
   "metadata": {},
   "outputs": [],
   "source": []
  }
 ],
 "metadata": {
  "kernelspec": {
   "display_name": "CA4016",
   "language": "python",
   "name": "ca4016"
  },
  "language_info": {
   "codemirror_mode": {
    "name": "ipython",
    "version": 3
   },
   "file_extension": ".py",
   "mimetype": "text/x-python",
   "name": "python",
   "nbconvert_exporter": "python",
   "pygments_lexer": "ipython3",
   "version": "3.10.8"
  }
 },
 "nbformat": 4,
 "nbformat_minor": 5
}
