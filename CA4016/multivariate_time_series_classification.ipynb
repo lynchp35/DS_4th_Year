{
 "cells": [
  {
   "cell_type": "markdown",
   "id": "ef822841",
   "metadata": {},
   "source": [
    "# Plan \n",
    "\n",
    "1. Import sensor data\n",
    "    1. Healthy subset (remove 012_diabetes)\n",
    "    2. Diabetes subset\n",
    "2. Analyse data\n",
    "    1. Consider droping n first minutes and last minutes due noise.\n",
    "    2. Plots\n",
    "3. What models?\n"
   ]
  }
 ],
 "metadata": {
  "kernelspec": {
   "display_name": "Python 3 (ipykernel)",
   "language": "python",
   "name": "python3"
  },
  "language_info": {
   "codemirror_mode": {
    "name": "ipython",
    "version": 3
   },
   "file_extension": ".py",
   "mimetype": "text/x-python",
   "name": "python",
   "nbconvert_exporter": "python",
   "pygments_lexer": "ipython3",
   "version": "3.9.13"
  }
 },
 "nbformat": 4,
 "nbformat_minor": 5
}
