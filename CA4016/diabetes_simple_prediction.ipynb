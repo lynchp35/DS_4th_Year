{
 "cells": [
  {
   "cell_type": "code",
   "execution_count": 1,
   "id": "010cf645",
   "metadata": {},
   "outputs": [],
   "source": [
    "import pandas as pd\n",
    "import numpy as np\n",
    "import matplotlib.pyplot as plt\n",
    "import math\n",
    "import os"
   ]
  },
  {
   "cell_type": "markdown",
   "id": "49624e23",
   "metadata": {},
   "source": [
    "## Plan\n",
    "\n",
    "1. First import all the glucose data for all subjects.\n",
    "2. It is clear that there are major differences in the glucose levels. Pick stats to use for classification.\n",
    "3. Find the stats of each user per day. \n",
    "    1. Train first three days worth of data, exluding the 012_diabetes subject.\n",
    "    2. Test using the fouth day and all four days for subject 012_diabetes.\n",
    "4. Use AutoML to help pick model to use?\n",
    "5. Find the accuracy using test set. (Base Case)\n",
    "\n",
    "\n"
   ]
  }
 ],
 "metadata": {
  "kernelspec": {
   "display_name": "Python 3 (ipykernel)",
   "language": "python",
   "name": "python3"
  },
  "language_info": {
   "codemirror_mode": {
    "name": "ipython",
    "version": 3
   },
   "file_extension": ".py",
   "mimetype": "text/x-python",
   "name": "python",
   "nbconvert_exporter": "python",
   "pygments_lexer": "ipython3",
   "version": "3.9.6"
  }
 },
 "nbformat": 4,
 "nbformat_minor": 5
}
