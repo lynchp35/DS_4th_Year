{
 "cells": [
  {
   "cell_type": "code",
   "execution_count": 1,
   "id": "010cf645",
   "metadata": {},
   "outputs": [],
   "source": [
    "import pandas as pd\n",
    "import numpy as np\n",
    "import matplotlib.pyplot as plt\n",
    "import math\n",
    "import os"
   ]
  },
  {
   "cell_type": "code",
   "execution_count": 3,
   "id": "0465ce4e",
   "metadata": {},
   "outputs": [
    {
     "name": "stdout",
     "output_type": "stream",
     "text": [
      "data/D1NAMO/diabetes_subset/001\n",
      "data/D1NAMO/diabetes_subset/002\n",
      "data/D1NAMO/diabetes_subset/003\n",
      "data/D1NAMO/diabetes_subset/004\n",
      "data/D1NAMO/diabetes_subset/005\n",
      "data/D1NAMO/diabetes_subset/006\n",
      "data/D1NAMO/diabetes_subset/007\n",
      "data/D1NAMO/diabetes_subset/008\n",
      "data/D1NAMO/diabetes_subset/009\n",
      "data/D1NAMO/healthy_subset/001\n",
      "data/D1NAMO/healthy_subset/002\n",
      "data/D1NAMO/healthy_subset/003\n",
      "data/D1NAMO/healthy_subset/004\n",
      "data/D1NAMO/healthy_subset/005\n",
      "data/D1NAMO/healthy_subset/006\n",
      "data/D1NAMO/healthy_subset/007\n",
      "data/D1NAMO/healthy_subset/008\n",
      "data/D1NAMO/healthy_subset/009\n",
      "data/D1NAMO/healthy_subset/010\n",
      "data/D1NAMO/healthy_subset/011\n",
      "data/D1NAMO/healthy_subset/012_diabetes\n",
      "data/D1NAMO/healthy_subset/013\n",
      "data/D1NAMO/healthy_subset/014\n",
      "data/D1NAMO/healthy_subset/015\n",
      "data/D1NAMO/healthy_subset/016\n",
      "data/D1NAMO/healthy_subset/017\n",
      "data/D1NAMO/healthy_subset/018\n",
      "data/D1NAMO/healthy_subset/019\n",
      "data/D1NAMO/healthy_subset/020\n"
     ]
    }
   ],
   "source": [
    "top_path = \"data/D1NAMO/\"\n",
    "\n",
    "for subject_type in os.listdir(top_path):\n",
    "    for subject_ID in os.listdir(top_path+subject_type):\n",
    "        print(\"data/D1NAMO/\"+subject_type+\"/\"+subject_ID)\n",
    "        #df = pd.read_csv(\"data/D1NAMO/\"+subject_type+\"/\"+subject_ID+\"/food.csv\")"
   ]
  }
 ],
 "metadata": {
  "kernelspec": {
   "display_name": "Python 3 (ipykernel)",
   "language": "python",
   "name": "python3"
  },
  "language_info": {
   "codemirror_mode": {
    "name": "ipython",
    "version": 3
   },
   "file_extension": ".py",
   "mimetype": "text/x-python",
   "name": "python",
   "nbconvert_exporter": "python",
   "pygments_lexer": "ipython3",
   "version": "3.9.6"
  }
 },
 "nbformat": 4,
 "nbformat_minor": 5
}
