{
 "cells": [
  {
   "cell_type": "code",
   "execution_count": 1,
   "id": "e9b922ea",
   "metadata": {},
   "outputs": [],
   "source": [
    "import pandas as pd\n",
    "import numpy as np\n",
    "import matplotlib.pyplot as plt\n",
    "import seaborn as sns\n",
    "from pyspark.sql.functions import pandas_udf\n",
    "from pyspark.sql import SparkSession"
   ]
  },
  {
   "cell_type": "code",
   "execution_count": null,
   "id": "abdec9d2",
   "metadata": {},
   "outputs": [],
   "source": [
    "property_data = pd.read_csv(\"data/daft_from_page_0_till_page_987_by_20.csv\", index_col=[\"Unnamed: 0\"])"
   ]
  },
  {
   "cell_type": "code",
   "execution_count": 213,
   "id": "5b698f5e",
   "metadata": {},
   "outputs": [],
   "source": [
    "property_data.to_csv(\"data/cleaned_data.csv\", index=False)"
   ]
  },
  {
   "cell_type": "code",
   "execution_count": 140,
   "id": "d8bb5ce7",
   "metadata": {},
   "outputs": [
    {
     "name": "stdout",
     "output_type": "stream",
     "text": [
      "<class 'pandas.core.frame.DataFrame'>\n",
      "Int64Index: 19845 entries, 0 to 19844\n",
      "Data columns (total 8 columns):\n",
      " #   Column         Non-Null Count  Dtype  \n",
      "---  ------         --------------  -----  \n",
      " 0   Bed            16705 non-null  float64\n",
      " 1   Bath           16435 non-null  float64\n",
      " 2   m²             15458 non-null  float64\n",
      " 3   Price          19845 non-null  object \n",
      " 4   Address        19845 non-null  object \n",
      " 5   Property_type  19833 non-null  object \n",
      " 6   New_build      19845 non-null  object \n",
      " 7   Page           19845 non-null  int64  \n",
      "dtypes: float64(3), int64(1), object(4)\n",
      "memory usage: 1.4+ MB\n"
     ]
    }
   ],
   "source": [
    "property_data.info()"
   ]
  },
  {
   "cell_type": "markdown",
   "id": "7066c06e",
   "metadata": {},
   "source": [
    "## Insights\n",
    "\n",
    "Features that contain null values:\n",
    "1. Bed and Bath\n",
    "    1. If property_type == \"site\": Bed = 0 \n",
    "    2. else: drop row or try impute the value.\n",
    "2. m²\n",
    "    1. Maybe try to impute the value ~4,000 null\n",
    "3. Property_type\n",
    "    1. Look into, might drop rows\n"
   ]
  },
  {
   "cell_type": "code",
   "execution_count": 144,
   "id": "084b86f8",
   "metadata": {},
   "outputs": [
    {
     "data": {
      "text/html": [
       "<div>\n",
       "<style scoped>\n",
       "    .dataframe tbody tr th:only-of-type {\n",
       "        vertical-align: middle;\n",
       "    }\n",
       "\n",
       "    .dataframe tbody tr th {\n",
       "        vertical-align: top;\n",
       "    }\n",
       "\n",
       "    .dataframe thead th {\n",
       "        text-align: right;\n",
       "    }\n",
       "</style>\n",
       "<table border=\"1\" class=\"dataframe\">\n",
       "  <thead>\n",
       "    <tr style=\"text-align: right;\">\n",
       "      <th></th>\n",
       "      <th>Bed</th>\n",
       "      <th>Bath</th>\n",
       "      <th>m²</th>\n",
       "    </tr>\n",
       "  </thead>\n",
       "  <tbody>\n",
       "    <tr>\n",
       "      <th>count</th>\n",
       "      <td>16705</td>\n",
       "      <td>16435</td>\n",
       "      <td>15458</td>\n",
       "    </tr>\n",
       "    <tr>\n",
       "      <th>mean</th>\n",
       "      <td>3</td>\n",
       "      <td>2</td>\n",
       "      <td>28133</td>\n",
       "    </tr>\n",
       "    <tr>\n",
       "      <th>std</th>\n",
       "      <td>1</td>\n",
       "      <td>1</td>\n",
       "      <td>2372859</td>\n",
       "    </tr>\n",
       "    <tr>\n",
       "      <th>min</th>\n",
       "      <td>1</td>\n",
       "      <td>1</td>\n",
       "      <td>0</td>\n",
       "    </tr>\n",
       "    <tr>\n",
       "      <th>25%</th>\n",
       "      <td>3</td>\n",
       "      <td>1</td>\n",
       "      <td>90</td>\n",
       "    </tr>\n",
       "    <tr>\n",
       "      <th>50%</th>\n",
       "      <td>3</td>\n",
       "      <td>2</td>\n",
       "      <td>128</td>\n",
       "    </tr>\n",
       "    <tr>\n",
       "      <th>75%</th>\n",
       "      <td>4</td>\n",
       "      <td>3</td>\n",
       "      <td>268</td>\n",
       "    </tr>\n",
       "    <tr>\n",
       "      <th>max</th>\n",
       "      <td>40</td>\n",
       "      <td>32</td>\n",
       "      <td>263040751</td>\n",
       "    </tr>\n",
       "  </tbody>\n",
       "</table>\n",
       "</div>"
      ],
      "text/plain": [
       "         Bed   Bath         m²\n",
       "count  16705  16435      15458\n",
       "mean       3      2      28133\n",
       "std        1      1    2372859\n",
       "min        1      1          0\n",
       "25%        3      1         90\n",
       "50%        3      2        128\n",
       "75%        4      3        268\n",
       "max       40     32  263040751"
      ]
     },
     "execution_count": 144,
     "metadata": {},
     "output_type": "execute_result"
    }
   ],
   "source": [
    "property_data.describe().astype(int).drop(columns=[\"Page\"])"
   ]
  },
  {
   "cell_type": "markdown",
   "id": "422d794d",
   "metadata": {},
   "source": [
    "### Insights\n",
    "\n",
    "Some extream values, may need to investigate outliers."
   ]
  },
  {
   "cell_type": "code",
   "execution_count": 145,
   "id": "a0b44c9f",
   "metadata": {},
   "outputs": [
    {
     "data": {
      "text/plain": [
       "Bed                 25\n",
       "Bath                23\n",
       "m²                 994\n",
       "Price              801\n",
       "Address          18799\n",
       "Property_type       11\n",
       "New_build            2\n",
       "Page               984\n",
       "dtype: int64"
      ]
     },
     "execution_count": 145,
     "metadata": {},
     "output_type": "execute_result"
    }
   ],
   "source": [
    "property_data.nunique()"
   ]
  },
  {
   "cell_type": "markdown",
   "id": "df9e039e",
   "metadata": {},
   "source": [
    "### Insights\n",
    "\n",
    "1. Price didn't come in the last section and has a dtype of object.\n",
    "    2. May need to clean data.\n",
    "2. There are 11 property types, maybe look into reducing this."
   ]
  },
  {
   "cell_type": "code",
   "execution_count": 138,
   "id": "daa96f8c",
   "metadata": {},
   "outputs": [
    {
     "data": {
      "text/plain": [
       "Detached          6000\n",
       "Semi-D            3982\n",
       "Site              3070\n",
       "Terrace           2352\n",
       "Apartment         2075\n",
       "End of Terrace     929\n",
       "Bungalow           869\n",
       "Townhouse          248\n",
       "Duplex             223\n",
       "Studio               3\n",
       "House                1\n",
       "Name: Property_type, dtype: int64"
      ]
     },
     "execution_count": 138,
     "metadata": {},
     "output_type": "execute_result"
    }
   ],
   "source": [
    "property_data[\"Property_type\"].value_counts()"
   ]
  },
  {
   "cell_type": "markdown",
   "id": "977dd0fb",
   "metadata": {},
   "source": [
    "I will look into hierarchical structure.  \n",
    "People looking to live in a Studio may also be interested in Apartments,\n",
    "and people looking a Semi-D may also be interested in Detached."
   ]
  }
 ],
 "metadata": {
  "kernelspec": {
   "display_name": "daft",
   "language": "python",
   "name": "daft"
  },
  "language_info": {
   "codemirror_mode": {
    "name": "ipython",
    "version": 3
   },
   "file_extension": ".py",
   "mimetype": "text/x-python",
   "name": "python",
   "nbconvert_exporter": "python",
   "pygments_lexer": "ipython3",
   "version": "3.10.8"
  }
 },
 "nbformat": 4,
 "nbformat_minor": 5
}
