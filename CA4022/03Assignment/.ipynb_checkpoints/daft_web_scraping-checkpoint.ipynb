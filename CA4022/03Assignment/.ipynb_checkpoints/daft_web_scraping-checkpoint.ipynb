{
 "cells": [
  {
   "cell_type": "code",
   "execution_count": 2,
   "id": "b8e942aa",
   "metadata": {},
   "outputs": [],
   "source": [
    "import pandas as pd\n",
    "import numpy as np\n",
    "import matplotlib.pyplot as plt\n",
    "import seaborn as sns\n",
    "import requests\n",
    "from bs4 import BeautifulSoup\n",
    "import re"
   ]
  },
  {
   "cell_type": "code",
   "execution_count": 343,
   "id": "122383b2",
   "metadata": {},
   "outputs": [],
   "source": [
    "def scrape_daft(url, start_page, end_page, page_size):\n",
    "    \n",
    "    property_dict = {\"Bed\":[],\n",
    "                    \"Bath\":[],\n",
    "                    \"m²\":[],\n",
    "                    \"Price\":[],\n",
    "                    \"Address\":[],\n",
    "                    \"Property_type\":[],\n",
    "                    }\n",
    "    \n",
    "    for i in range(start_page, end_page):\n",
    "        \n",
    "        current_url = f\"{url}?from={i*page_size}&pageSize={page_size}\"\n",
    "        response = requests.get(current_url)\n",
    "        soup = BeautifulSoup(response.text, 'html.parser')\n",
    "        \n",
    "        extract_data(soup, property_dict, i)\n",
    "        \n",
    "    return property_dict\n",
    "\n",
    "def extract_data(soup, property_dict, i):\n",
    "    for property_listings in soup.find_all(\"a\"):\n",
    "        if len(property_listings) > 1:\n",
    "\n",
    "            property_price = property_listings.find_all(\"span\", \"TitleBlock__StyledSpan-sc-1avkvav-5 fKAzIL\")\n",
    "\n",
    "            property_address = property_listings.find_all(\"p\", \"TitleBlock__Address-sc-1avkvav-8 dzihyY\")\n",
    "            property_type = property_listings.find_all(\"p\", \"TitleBlock__CardInfoItem-sc-1avkvav-9 cKZZql\")\n",
    "\n",
    "            if len(property_price) + len(property_address) + len(property_type) > 0:\n",
    "                property_price = convert_price_to_int(property_price, i)\n",
    "                property_dict[\"Price\"].append(property_price)\n",
    "                try:\n",
    "                    property_dict[\"Address\"].append(property_address[0].text)\n",
    "                    property_dict[\"Property_type\"].append(property_type[0].text)\n",
    "                except IndexError:\n",
    "                    property_dict[\"Address\"].append(np.nan)\n",
    "                    property_dict[\"Property_type\"].append(np.nan)\n",
    "                    \n",
    "\n",
    "\n",
    "                property_details = property_listings.find_all(\"p\", \"TitleBlock__CardInfoItem-sc-1avkvav-9 iLMdur\")\n",
    "                extract_property_details(property_details, property_dict)\n",
    "                \n",
    "            imput_null_values(property_dict)\n",
    "        \n",
    "    return property_dict\n",
    "\n",
    "def convert_price_to_int(price, i):\n",
    "    price = price[0].text\n",
    "    try:\n",
    "        price = int(\"\".join(price.split(\"€\")[1].split(\",\")))\n",
    "    except IndexError:\n",
    "        if price.strip() != \"Price on Application\":\n",
    "            #print(f\"Error found on page {i}\")\n",
    "            #print(f\"{price} is not of type int\", end =\"\\n\\n\")\n",
    "            price = np.nan\n",
    "        else:\n",
    "            price = price.strip()\n",
    "    return price\n",
    "\n",
    "def extract_property_details(property_details, property_dict):\n",
    "    \n",
    "    for detail in property_details:\n",
    "        detail_value = detail.text.split()[0]\n",
    "        detail_type = detail.text.split()[1]\n",
    "        if detail_type in [\"Bed\",\"Bath\",\"m²\"]:\n",
    "            try:\n",
    "                property_dict[detail_type].append(int(detail_value))\n",
    "            except ValueError:\n",
    "                property_dict[detail_type].append(detail_value)\n",
    "        elif detail_type == \"ac\":\n",
    "            size = convert_ac_m2(detail_value)\n",
    "            property_dict[\"m²\"].append(size)\n",
    "        else:\n",
    "            print(f\"Found {detail}, while trying to extract bed, bath and floor-area\")\n",
    "    \n",
    "def convert_ac_m2(value):\n",
    "    return float(value) / (0.00024711)\n",
    "\n",
    "def imput_null_values(property_dict):\n",
    "    maxLen = max([len(property_dict[key]) for key in property_dict])\n",
    "    for key in property_dict:\n",
    "        if len(property_dict[key]) < maxLen:\n",
    "            property_dict[key].append(np.nan)\n",
    "    \n",
    "    if sum(np.array([len(property_dict[key]) for key in property_dict]) == maxLen) != len(property_dict):\n",
    "        print(\"Error dictionary not of uniform length\")\n",
    "        imput_null_values(property_dict)"
   ]
  },
  {
   "cell_type": "code",
   "execution_count": null,
   "id": "b4c61f21",
   "metadata": {},
   "outputs": [],
   "source": [
    "url = \"https://www.daft.ie/property-for-sale/ireland\"\n",
    "start_page = 0\n",
    "end_page = 50\n",
    "page_size = 20\n",
    "property_dict = scrape_daft(url, start_page, end_page, page_size)"
   ]
  },
  {
   "cell_type": "code",
   "execution_count": 336,
   "id": "2d0979cc",
   "metadata": {},
   "outputs": [],
   "source": [
    "properties = pd.DataFrame(property_dict)"
   ]
  },
  {
   "cell_type": "code",
   "execution_count": 324,
   "id": "04300dda",
   "metadata": {
    "scrolled": true
   },
   "outputs": [
    {
     "name": "stdout",
     "output_type": "stream",
     "text": [
      "Bed: 40\n",
      "Bath: 40\n",
      "m²: 40\n",
      "Price: 40\n",
      "Address: 40\n",
      "Property_type: 40\n"
     ]
    }
   ],
   "source": [
    "for key in property_dict:\n",
    "    print(f\"{key}: {len(property_dict[key])}\")"
   ]
  }
 ],
 "metadata": {
  "kernelspec": {
   "display_name": "Python 3 (ipykernel)",
   "language": "python",
   "name": "python3"
  },
  "language_info": {
   "codemirror_mode": {
    "name": "ipython",
    "version": 3
   },
   "file_extension": ".py",
   "mimetype": "text/x-python",
   "name": "python",
   "nbconvert_exporter": "python",
   "pygments_lexer": "ipython3",
   "version": "3.9.12"
  }
 },
 "nbformat": 4,
 "nbformat_minor": 5
}
